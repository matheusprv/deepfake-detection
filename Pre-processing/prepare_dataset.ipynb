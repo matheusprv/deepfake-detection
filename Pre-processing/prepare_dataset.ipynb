{
 "cells": [
  {
   "cell_type": "code",
   "execution_count": 1,
   "metadata": {},
   "outputs": [],
   "source": [
    "import os\n",
    "import shutil\n",
    "from math import isclose"
   ]
  },
  {
   "cell_type": "code",
   "execution_count": 11,
   "metadata": {},
   "outputs": [],
   "source": [
    "base_path = \"Celeb-DF-V2-subclips-prepared\\Images\"\n",
    "os.mkdir(base_path)\n",
    "\n",
    "directories = [\"train\", \"test\", \"validation\"]\n",
    "subdirecotries = [\"Real\", \"Fake\"]\n",
    "\n",
    "for dir in directories:\n",
    "    path = os.path.join(base_path, dir)\n",
    "    os.mkdir(path)\n",
    "    for sub in subdirecotries:\n",
    "        path = os.path.join(base_path, dir, sub)\n",
    "        os.mkdir(path)"
   ]
  },
  {
   "cell_type": "code",
   "execution_count": 12,
   "metadata": {},
   "outputs": [
    {
     "name": "stdout",
     "output_type": "stream",
     "text": [
      "Celeb-DF-V2-subclips-prepared\\Images\\train\\Real\n",
      "Celeb-DF-V2-subclips-prepared\\Images\\train\\Fake\n",
      "Celeb-DF-V2-subclips-prepared\\Images\\test\\Real\n",
      "Celeb-DF-V2-subclips-prepared\\Images\\test\\Fake\n",
      "Celeb-DF-V2-subclips-prepared\\Images\\validation\\Real\n",
      "Celeb-DF-V2-subclips-prepared\\Images\\validation\\Fake\n"
     ]
    }
   ],
   "source": [
    "original_path = [os.path.join(\"Celeb-DF-V2-subclips\\Images\", dir) for dir in [\"Real\", \"Fake\"]]\n",
    "destination_path = [os.path.join(base_path, dir, sub) for dir in directories for sub in subdirecotries ]\n",
    "\n",
    "for dest in destination_path:\n",
    "    print(dest)"
   ]
  },
  {
   "cell_type": "code",
   "execution_count": 17,
   "metadata": {},
   "outputs": [
    {
     "name": "stdout",
     "output_type": "stream",
     "text": [
      "Qtd fake imgs: 132727\n",
      "Qtd real imgs: 132727\n"
     ]
    }
   ],
   "source": [
    "fake_imgs_list = sorted([os.path.join(original_path[1], data) for data in os.listdir(\"Celeb-DF-V2-subclips\\Images\\Fake\")])[:132727]\n",
    "total_fake_imgs_list = len(fake_imgs_list)\n",
    "print(\"Qtd fake imgs:\",total_fake_imgs_list)\n",
    "\n",
    "real_images_list = [os.path.join(original_path[0], data) for data in os.listdir(\"Celeb-DF-V2-subclips\\Images\\Real\")]\n",
    "total_real_images_list = len(real_images_list)\n",
    "print(\"Qtd real imgs:\", total_real_images_list)\n",
    "\n",
    "total_images = total_fake_imgs_list + total_real_images_list\n",
    "dataset_imgs = [real_images_list ,fake_imgs_list]"
   ]
  },
  {
   "cell_type": "code",
   "execution_count": 20,
   "metadata": {},
   "outputs": [],
   "source": [
    "train_ratio = 0.75\n",
    "test_ratio = 0.15\n",
    "val_ratio = 0.10\n",
    "assert isclose(train_ratio + val_ratio + test_ratio, 1.0)"
   ]
  },
  {
   "cell_type": "code",
   "execution_count": 21,
   "metadata": {},
   "outputs": [
    {
     "name": "stdout",
     "output_type": "stream",
     "text": [
      "0 - 99545\n",
      "99545 - 119454\n",
      "119454 - 132726\n",
      "0 - 99545\n",
      "99545 - 119454\n",
      "119454 - 132726\n"
     ]
    }
   ],
   "source": [
    "for i, current_list in enumerate([real_images_list, fake_imgs_list]): \n",
    "\n",
    "    total_data_list = len(current_list)\n",
    "    end = 0\n",
    "    for j, ratio in enumerate([train_ratio, test_ratio, val_ratio]):\n",
    "        k = i + j * 2\n",
    "\n",
    "        begin = end\n",
    "        end   += int(total_data_list * ratio)\n",
    "\n",
    "        print(begin, end, sep=\" - \")\n",
    "\n",
    "        data_list = current_list[begin:end]\n",
    "\n",
    "        for data in data_list:\n",
    "            shutil.copy(src = data, dst = destination_path[k])"
   ]
  },
  {
   "cell_type": "code",
   "execution_count": 10,
   "metadata": {},
   "outputs": [
    {
     "name": "stdout",
     "output_type": "stream",
     "text": [
      "Directory: Celeb-DF-V2-subclips-prepared, Number of items: 3\n",
      "Directory: Celeb-DF-V2-subclips-prepared\\test, Number of items: 2\n",
      "Directory: Celeb-DF-V2-subclips-prepared\\test\\Fake, Number of items: 807\n",
      "Directory: Celeb-DF-V2-subclips-prepared\\test\\Real, Number of items: 133\n",
      "Directory: Celeb-DF-V2-subclips-prepared\\train, Number of items: 2\n",
      "Directory: Celeb-DF-V2-subclips-prepared\\train\\Fake, Number of items: 4036\n",
      "Directory: Celeb-DF-V2-subclips-prepared\\train\\Real, Number of items: 665\n",
      "Directory: Celeb-DF-V2-subclips-prepared\\validation, Number of items: 2\n",
      "Directory: Celeb-DF-V2-subclips-prepared\\validation\\Fake, Number of items: 539\n",
      "Directory: Celeb-DF-V2-subclips-prepared\\validation\\Real, Number of items: 89\n"
     ]
    }
   ],
   "source": [
    "def count_items_in_subdirectories(super_directory):\n",
    "    for root, dirs, files in os.walk(super_directory):\n",
    "        num_items = len(dirs) + len(files)\n",
    "        print(f\"Directory: {root}, Number of items: {num_items}\")\n",
    "\n",
    "count_items_in_subdirectories(\"Celeb-DF-V2-subclips-prepared\")"
   ]
  }
 ],
 "metadata": {
  "kernelspec": {
   "display_name": "Python 3",
   "language": "python",
   "name": "python3"
  },
  "language_info": {
   "codemirror_mode": {
    "name": "ipython",
    "version": 3
   },
   "file_extension": ".py",
   "mimetype": "text/x-python",
   "name": "python",
   "nbconvert_exporter": "python",
   "pygments_lexer": "ipython3",
   "version": "3.11.3"
  }
 },
 "nbformat": 4,
 "nbformat_minor": 2
}
